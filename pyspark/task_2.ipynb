{
 "cells": [
  {
   "cell_type": "code",
   "execution_count": 3,
   "metadata": {},
   "outputs": [],
   "source": [
    "from pyspark.sql import SparkSession\n",
    "from dotenv import load_dotenv\n",
    "load_dotenv()\n",
    "\n",
    "spark = (\n",
    "        SparkSession.builder.master(\"local\")\n",
    "        .appName(\"ProductCategory\")\n",
    "        .getOrCreate()\n",
    "    )\n",
    "\n",
    "products_data = [\n",
    "        (1, \"Product1\"),\n",
    "        (2, \"Product2\"),\n",
    "        (3, \"Product3\"),\n",
    "        (4, \"Product4\"),\n",
    "    ]\n",
    "\n",
    "products_df = spark.createDataFrame(\n",
    "        products_data, [\"product_id\", \"product_name\"]\n",
    "    )\n",
    "\n",
    "categories_data = [\n",
    "        (1, \"Category1\"),\n",
    "        (2, \"Category2\"),\n",
    "        (3, \"Category3\"),\n",
    "    ]\n",
    "\n",
    "categories_df = spark.createDataFrame(\n",
    "        categories_data, [\"category_id\", \"category_name\"]\n",
    "    )"
   ]
  },
  {
   "cell_type": "code",
   "execution_count": null,
   "metadata": {},
   "outputs": [],
   "source": [
    "product_category_data = [\n",
    "        (1, 1),\n",
    "        (2, 1),\n",
    "        (2, 2),\n",
    "        (3, 3),\n",
    "    ]\n",
    "\n",
    "    product_category_df = spark.createDataFrame(\n",
    "        product_category_data, [\"product_id\", \"category_id\"]\n",
    "    )"
   ]
  }
 ],
 "metadata": {
  "kernelspec": {
   "display_name": "venv",
   "language": "python",
   "name": "python3"
  },
  "language_info": {
   "codemirror_mode": {
    "name": "ipython",
    "version": 3
   },
   "file_extension": ".py",
   "mimetype": "text/x-python",
   "name": "python",
   "nbconvert_exporter": "python",
   "pygments_lexer": "ipython3",
   "version": "3.10.10"
  }
 },
 "nbformat": 4,
 "nbformat_minor": 2
}
